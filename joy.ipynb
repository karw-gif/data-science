{
 "cells": [
  {
   "cell_type": "code",
   "execution_count": 4,
   "id": "164ade37-f2c3-4d63-86b6-ef59dc2158dd",
   "metadata": {},
   "outputs": [
    {
     "name": "stdout",
     "output_type": "stream",
     "text": [
      "Mean Squared Error: 0.8339626941932063\n",
      "Predicted Accident Severity: 1.9646319063642144\n"
     ]
    }
   ],
   "source": [
    "import pandas as pd\n",
    "from sklearn.model_selection import train_test_split\n",
    "from sklearn.linear_model import LinearRegression\n",
    "from sklearn.metrics import mean_squared_error\n",
    "import pickle\n",
    "\n",
    "\n",
    "df = pd.read_csv(r\"C:\\joy\\road_accident_data.csv\")\n",
    "df = pd.get_dummies(df, columns=['Weather', 'Road Condition', 'Time of Day'], drop_first=True)\n",
    "\n",
    "X = df.drop('Accident Severity', axis=1)\n",
    "y = df['Accident Severity']\n",
    "\n",
    "\n",
    "X_train, X_test, y_train, y_test = train_test_split(X, y, test_size=0.2, random_state=42)\n",
    "\n",
    "model = LinearRegression()\n",
    "model.fit(X_train, y_train)\n",
    "\n",
    "y_pred = model.predict(X_test)\n",
    "\n",
    "mse = mean_squared_error(y_test, y_pred)\n",
    "print(f'Mean Squared Error: {mse}')\n",
    "\n",
    "with open('road_accident_severity_model.pkl', 'wb') as file:\n",
    "    pickle.dump(model, file)\n",
    "\n",
    "with open('road_accident_severity_model.pkl', 'rb') as file:\n",
    "    model = pickle.load(file)\n",
    "\n",
    "new_data = pd.DataFrame({\n",
    "    'Traffic Volume': [75],\n",
    "    'Driver Age': [65],\n",
    "    'Vehicle Age': [20],\n",
    "    'Speed': [80],\n",
    "    'Weather_Rainy': [1],\n",
    "    'Weather_Snowy': [0],\n",
    "    'Weather_Sunny': [0],\n",
    "    'Road Condition_Icy': [0],\n",
    "    'Road Condition_Wet': [1],\n",
    "    'Time of Day_Night': [1]\n",
    "})\n",
    "\n",
    "predicted_severity = model.predict(new_data)\n",
    "print(f'Predicted Accident Severity: {predicted_severity[0]}')\n"
   ]
  },
  {
   "cell_type": "code",
   "execution_count": null,
   "id": "0b958614-d8a5-41ec-a48f-3cf90d45bfb6",
   "metadata": {},
   "outputs": [],
   "source": []
  }
 ],
 "metadata": {
  "kernelspec": {
   "display_name": "Python 3 (ipykernel)",
   "language": "python",
   "name": "python3"
  },
  "language_info": {
   "codemirror_mode": {
    "name": "ipython",
    "version": 3
   },
   "file_extension": ".py",
   "mimetype": "text/x-python",
   "name": "python",
   "nbconvert_exporter": "python",
   "pygments_lexer": "ipython3",
   "version": "3.11.7"
  }
 },
 "nbformat": 4,
 "nbformat_minor": 5
}
